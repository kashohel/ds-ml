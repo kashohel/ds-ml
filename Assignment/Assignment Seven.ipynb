{
 "cells": [
  {
   "cell_type": "markdown",
   "metadata": {},
   "source": [
    "## <center>Assignment from Khorshed Alam</center>"
   ]
  },
  {
   "cell_type": "markdown",
   "metadata": {},
   "source": [
    "1. #### *Read 2 variables, named A and B and make the sum of these two variables, assigning its result to the variable X. Print X.*"
   ]
  },
  {
   "cell_type": "code",
   "execution_count": 6,
   "metadata": {},
   "outputs": [
    {
     "name": "stdout",
     "output_type": "stream",
     "text": [
      "Input first number : 20\n",
      "Input second number : 10\n",
      "The sum of two input is = 30\n"
     ]
    }
   ],
   "source": [
    "A = int(input('Input first number : '))\n",
    "B = int(input('Input second number : '))\n",
    "\n",
    "X = A+B\n",
    "    \n",
    "print (\"The sum of two input is = {}\".format(X))"
   ]
  },
  {
   "cell_type": "markdown",
   "metadata": {},
   "source": [
    "2. #### *The formula to calculate the area of a circumference is defined as A = π . R2. Considering this problem that π = 3.14159. Calculate the area using the formula given in the problem description.*"
   ]
  },
  {
   "cell_type": "code",
   "execution_count": 9,
   "metadata": {},
   "outputs": [
    {
     "name": "stdout",
     "output_type": "stream",
     "text": [
      "Input redius of circle : 20\n",
      "Area of this circle is = 1256.636\n"
     ]
    }
   ],
   "source": [
    "def circle_area(R):\n",
    "    pi = 3.14159\n",
    "    return pi*(R**2)\n",
    "\n",
    "R = int(input('Input redius of circle : '))\n",
    "\n",
    "A = circle_area(R)\n",
    "\n",
    "print(\"Area of this circle is = {}\".format(A))\n",
    "\n"
   ]
  },
  {
   "cell_type": "markdown",
   "metadata": {},
   "source": [
    "3. ***Read two floating points' values of double precision A and B, corresponding to two student's grades. After this, calculate the student's average, considering that grade A has weight 3.5 and B has weight 7.5. Each grade can be from zero to ten, always with one digit after the decimal point.***"
   ]
  },
  {
   "cell_type": "code",
   "execution_count": 50,
   "metadata": {},
   "outputs": [
    {
     "name": "stdout",
     "output_type": "stream",
     "text": [
      "Each grade can be from zero to ten.\n",
      "Input grade of FIRDT student : 4.5\n",
      "Input grade of SECOND student : 5.6\n",
      "The avarage of two result is = 5.0\n"
     ]
    }
   ],
   "source": [
    "def avrg(X, Y):\n",
    "    return (X+Y)/2\n",
    "\n",
    "print('Each grade can be from zero to ten.')\n",
    "A = float(input(\"Input grade of FIRDT student : \"))\n",
    "B = float(input(\"Input grade of SECOND student : \"))\n",
    "\n",
    "if(A < 0 or A > 10 or B < 0 or B >10):\n",
    "    print(\"Grade must be between zero to ten\")\n",
    "else:\n",
    "    C = '{0:.1f}'. format(avrg(A, B))\n",
    "    print (\"The avarage of two result is = {}\".format(C))\n",
    "\n"
   ]
  },
  {
   "cell_type": "markdown",
   "metadata": {},
   "source": [
    "4. #### *Read three values (variables A, B and C), which are the three student's grades. Then, calculate the average, considering that grade A has weight 2, grade B has weight 3 and the grade C has weight 5. Consider that each grade can go from 0 to 10.0, always with one decimal place.*"
   ]
  },
  {
   "cell_type": "code",
   "execution_count": 51,
   "metadata": {},
   "outputs": [
    {
     "name": "stdout",
     "output_type": "stream",
     "text": [
      "Input grade for the student A :3.4\n",
      "Input grade for the student B :4.5\n",
      "Input grade for the student C :5.6\n",
      "The average of inputed grade is = 4.5\n"
     ]
    }
   ],
   "source": [
    "results = []\n",
    "i = 1\n",
    "\n",
    "def avrg(list):\n",
    "    count,total = 0,0\n",
    "    for i in list:\n",
    "        count += 1\n",
    "        total += i\n",
    "    return total/count\n",
    "        \n",
    "        \n",
    "for i, s in enumerate(['A', 'B', 'C']):\n",
    "    try:\n",
    "        result = float(input(\"Input grade for the student {} :\".format(s)))\n",
    "    except:\n",
    "        result = -1\n",
    "        \n",
    "    while (result > 10 or result < 0):\n",
    "        print (\"grade can go from 0 to 10.0\")\n",
    "        result = float(input(\"Input grade for the student {} :\".format(s)))\n",
    "        \n",
    "    results.append(result)\n",
    "    \n",
    "average = '{0:.1f}'. format(avrg(results))\n",
    "print (\"The average of inputed grade is = {}\".format(average))"
   ]
  },
  {
   "cell_type": "markdown",
   "metadata": {},
   "source": [
    "5. #### *Read four integer values named A, B, C and D. Calculate and print the difference of product A and B by the product of C and D (A * B - C * D).*"
   ]
  },
  {
   "cell_type": "code",
   "execution_count": 53,
   "metadata": {},
   "outputs": [
    {
     "name": "stdout",
     "output_type": "stream",
     "text": [
      "Input first number for A : 5\n",
      "Input first number for B : 4\n",
      "Input first number for C : 3\n",
      "Input first number for D : 2\n",
      "The result is = 14\n"
     ]
    }
   ],
   "source": [
    "A = int(input('Input first number for A : '))\n",
    "B = int(input('Input first number for B : '))\n",
    "C = int(input('Input first number for C : '))\n",
    "D = int(input('Input first number for D : '))\n",
    "\n",
    "def difference(a, b, c, d):\n",
    "    return (a*b)-(c*d)\n",
    "\n",
    "result = round(difference(A,B,C,D), 2)\n",
    "print(\"The result is = {}\".format(result))"
   ]
  },
  {
   "cell_type": "markdown",
   "metadata": {},
   "source": [
    "6. #### *Write a program that reads an employee's number, his/her worked hours number in a month and the amount he received per hour. Print the employee's number and salary that he/she will receive at end of the month, with two decimal places.*"
   ]
  },
  {
   "cell_type": "code",
   "execution_count": 54,
   "metadata": {},
   "outputs": [
    {
     "name": "stdout",
     "output_type": "stream",
     "text": [
      "ID-23453(Person One) \twill get = 10350.00\n",
      "ID-45234(Person Two) \twill get = 13440.00\n",
      "ID-46454(Person Three) \twill get = 27720.00\n",
      "ID-67655(Person Four) \twill get = 15930.00\n",
      "ID-86766(Person Five) \twill get = 11340.00\n",
      "ID-27644(Person Six) \twill get = 3690.00\n",
      "ID-67423(Person Seven) \twill get = 12040.00\n"
     ]
    }
   ],
   "source": [
    "employes = {\n",
    "    'ID-23453': {'name':'Person One', 'hour':450, 'rate':23},\n",
    "    'ID-45234': {'name':'Person Two', 'hour':320, 'rate':42},\n",
    "    'ID-46454': {'name':'Person Three', 'hour':840, 'rate':33},\n",
    "    'ID-67655': {'name':'Person Four', 'hour':590, 'rate':27},\n",
    "    'ID-86766': {'name':'Person Five', 'hour':630, 'rate':18},\n",
    "    'ID-27644': {'name':'Person Six', 'hour':90, 'rate':41},\n",
    "    'ID-67423': {'name':'Person Seven', 'hour':430, 'rate':28},\n",
    "}\n",
    "\n",
    "for id, data in employes.items():\n",
    "    name = data['name']\n",
    "    salary = '{0:.2f}'. format(data['hour']*data['rate'])\n",
    "    print (\"{}({}) \\twill get = {}\".format(id, name, salary))\n",
    "    #print(enumerate(data)0)"
   ]
  },
  {
   "cell_type": "markdown",
   "metadata": {},
   "source": [
    "7. #### *Make a program that reads a seller's name, his/her fixed salary and the sale's total made by himself/herself in the month (in money). Considering that this seller receives 15% over all products sold, write the final salary (total) of this seller at the end of the month , with two decimal places.*"
   ]
  },
  {
   "cell_type": "code",
   "execution_count": 7,
   "metadata": {},
   "outputs": [
    {
     "name": "stdout",
     "output_type": "stream",
     "text": [
      "Saller name : \n",
      "*********\n",
      " Calculation closed **********\n"
     ]
    }
   ],
   "source": [
    "while True:\n",
    "    name = input('Saller name : ')\n",
    "    if (name == \"\"):\n",
    "        print(\" Calculation closed \".center(40, '*'))\n",
    "        break\n",
    "    salary = float(input('Fixed Salary : '))\n",
    "    sale = float(input('Monthly sale total: '))\n",
    "    commission = float('{0:.2f}'.format(sale*15/100))\n",
    "    total = '{0:.2f}'.format(salary+commission)\n",
    "    print(\"{} will get salary in total {}+{} = {}\\n\".format(name, salary, commission, total))"
   ]
  },
  {
   "cell_type": "markdown",
   "metadata": {},
   "source": [
    "8. #### *In this problem, the task is to read a code of a product 1, the number of units of product 1, the price for one unit of product 1, the code of a product 2, the number of units of product 2 and the price for one unit of product 2. After this, calculate and show the amount to be paid.*"
   ]
  },
  {
   "cell_type": "code",
   "execution_count": 5,
   "metadata": {},
   "outputs": [
    {
     "name": "stdout",
     "output_type": "stream",
     "text": [
      "Input code for product 1 : \n",
      "*********** Shopping closed ************\n",
      "Total payable amount is = 0.0\n"
     ]
    }
   ],
   "source": [
    "bill,product = 0.0,1\n",
    "while True:\n",
    "    code = input('Input code for product {} : '.format(product))\n",
    "    if (code == \"\"):\n",
    "        break\n",
    "    unit = int(input('Input product {} unit : '.format(product)))\n",
    "    price = int(input('Input product {} price : '.format(product)))\n",
    "    \n",
    "    bill += float(unit*price)\n",
    "    print (\"Product {} subtotal = {} \\n\".format(product, unit*price))\n",
    "    product += 1\n",
    "    \n",
    "print(\" Shopping closed \".center(40, '*'))\n",
    "print (\"Total payable amount is = {}\".format(bill))"
   ]
  },
  {
   "cell_type": "code",
   "execution_count": null,
   "metadata": {},
   "outputs": [],
   "source": []
  }
 ],
 "metadata": {
  "kernelspec": {
   "display_name": "Python 3",
   "language": "python",
   "name": "python3"
  },
  "language_info": {
   "codemirror_mode": {
    "name": "ipython",
    "version": 3
   },
   "file_extension": ".py",
   "mimetype": "text/x-python",
   "name": "python",
   "nbconvert_exporter": "python",
   "pygments_lexer": "ipython3",
   "version": "3.8.5"
  }
 },
 "nbformat": 4,
 "nbformat_minor": 4
}
