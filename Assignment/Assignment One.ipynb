{
 "cells": [
  {
   "cell_type": "code",
   "execution_count": 4,
   "metadata": {},
   "outputs": [
    {
     "name": "stdout",
     "output_type": "stream",
     "text": [
      "A-\n"
     ]
    }
   ],
   "source": [
    "#gpa point to grade conversion\n",
    "\n",
    "gpa = 3.99\n",
    "\n",
    "if (gpa == 5):\n",
    "    print ('A+')\n",
    "elif (gpa >= 4):\n",
    "    print ('A')\n",
    "elif (gpa >= 3.5):\n",
    "    print ('A-')\n",
    "elif (gpa >= 3):\n",
    "    print ('B')\n",
    "elif (gpa >= 2):\n",
    "    print ('C')\n",
    "elif (gpa >= 1):\n",
    "    print ('D')\n",
    "else:\n",
    "    print ('F')"
   ]
  },
  {
   "cell_type": "code",
   "execution_count": null,
   "metadata": {},
   "outputs": [],
   "source": []
  }
 ],
 "metadata": {
  "kernelspec": {
   "display_name": "Python 3",
   "language": "python",
   "name": "python3"
  },
  "language_info": {
   "codemirror_mode": {
    "name": "ipython",
    "version": 3
   },
   "file_extension": ".py",
   "mimetype": "text/x-python",
   "name": "python",
   "nbconvert_exporter": "python",
   "pygments_lexer": "ipython3",
   "version": "3.8.5"
  }
 },
 "nbformat": 4,
 "nbformat_minor": 4
}
