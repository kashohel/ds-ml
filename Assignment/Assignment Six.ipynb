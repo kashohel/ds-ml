{
 "cells": [
  {
   "cell_type": "markdown",
   "metadata": {},
   "source": [
    "# Assignment Six\n"
   ]
  },
  {
   "cell_type": "markdown",
   "metadata": {},
   "source": [
    "### Define all logic inside function"
   ]
  },
  {
   "cell_type": "code",
   "execution_count": 53,
   "metadata": {},
   "outputs": [],
   "source": [
    "#generate a matric with same height and width\n",
    "\n",
    "def make_matrix(length):\n",
    "    matrix = []\n",
    "    start = 0\n",
    "\n",
    "    for i in range(length):\n",
    "        list = []\n",
    "        for j in range(length):\n",
    "            list.append(start)\n",
    "            start += 1\n",
    "        matrix.append(list)\n",
    "    return matrix\n",
    "\n",
    "\n",
    "#print out the generated matrix list wise\n",
    "def view_matrix(matrix):\n",
    "    for listing in matrix:\n",
    "        print(listing)\n",
    "        \n",
    "\n",
    "#print only the matrix value accepting conditon \n",
    "def conditional_value(matrix):\n",
    "    fromindex = 0\n",
    "    toindex = length-1\n",
    "    for i in matrix:\n",
    "        fromindex += 1\n",
    "        toindex -= 1\n",
    "        list = []\n",
    "        for j in i:\n",
    "            if i.index(j) >= fromindex and i.index(j) <= toindex :\n",
    "                list.append(j)\n",
    "            else:\n",
    "                list.append('-')\n",
    "        print (list)\n",
    "        \n",
    "# sum only the matrix value accepting condition       \n",
    "def conditional_sum(matrix):\n",
    "    total = 0\n",
    "    fromindex = 0\n",
    "    toindex = length-1\n",
    "    for i in matrix:\n",
    "        fromindex += 1\n",
    "        toindex -= 1\n",
    "        list = []\n",
    "        for j in i:\n",
    "            if i.index(j) >= fromindex and i.index(j) <= toindex :\n",
    "                total += j\n",
    "    return total\n",
    "        \n",
    "\n",
    "# average only the matrix value accepting condition       \n",
    "def conditional_average(matrix):\n",
    "    total = 0\n",
    "    fromindex = 0\n",
    "    count_index = 0\n",
    "    toindex = length-1\n",
    "    for i in matrix:\n",
    "        fromindex += 1\n",
    "        toindex -= 1\n",
    "        list = []\n",
    "        for j in i:\n",
    "            if i.index(j) >= fromindex and i.index(j) <= toindex :\n",
    "                total += j\n",
    "                count_index += 1\n",
    "    return total/count_index\n",
    "        \n"
   ]
  },
  {
   "cell_type": "markdown",
   "metadata": {},
   "source": [
    "### Generate matrix with equal height and weight"
   ]
  },
  {
   "cell_type": "code",
   "execution_count": 54,
   "metadata": {},
   "outputs": [],
   "source": [
    "# set the height width of matrix\n",
    "length = 12\n",
    "\n",
    "#generate matrix\n",
    "matrix = make_matrix(length)"
   ]
  },
  {
   "cell_type": "code",
   "execution_count": 55,
   "metadata": {},
   "outputs": [],
   "source": [
    "### Print generated matrix"
   ]
  },
  {
   "cell_type": "code",
   "execution_count": 56,
   "metadata": {},
   "outputs": [
    {
     "name": "stdout",
     "output_type": "stream",
     "text": [
      "[0, 1, 2, 3, 4, 5, 6, 7, 8, 9, 10, 11]\n",
      "[12, 13, 14, 15, 16, 17, 18, 19, 20, 21, 22, 23]\n",
      "[24, 25, 26, 27, 28, 29, 30, 31, 32, 33, 34, 35]\n",
      "[36, 37, 38, 39, 40, 41, 42, 43, 44, 45, 46, 47]\n",
      "[48, 49, 50, 51, 52, 53, 54, 55, 56, 57, 58, 59]\n",
      "[60, 61, 62, 63, 64, 65, 66, 67, 68, 69, 70, 71]\n",
      "[72, 73, 74, 75, 76, 77, 78, 79, 80, 81, 82, 83]\n",
      "[84, 85, 86, 87, 88, 89, 90, 91, 92, 93, 94, 95]\n",
      "[96, 97, 98, 99, 100, 101, 102, 103, 104, 105, 106, 107]\n",
      "[108, 109, 110, 111, 112, 113, 114, 115, 116, 117, 118, 119]\n",
      "[120, 121, 122, 123, 124, 125, 126, 127, 128, 129, 130, 131]\n",
      "[132, 133, 134, 135, 136, 137, 138, 139, 140, 141, 142, 143]\n"
     ]
    }
   ],
   "source": [
    "#view generated matrix\n",
    "\n",
    "view_matrix(matrix)"
   ]
  },
  {
   "cell_type": "markdown",
   "metadata": {},
   "source": [
    "### Check conditional values only"
   ]
  },
  {
   "cell_type": "code",
   "execution_count": 57,
   "metadata": {},
   "outputs": [
    {
     "name": "stdout",
     "output_type": "stream",
     "text": [
      "['-', 1, 2, 3, 4, 5, 6, 7, 8, 9, 10, '-']\n",
      "['-', '-', 14, 15, 16, 17, 18, 19, 20, 21, '-', '-']\n",
      "['-', '-', '-', 27, 28, 29, 30, 31, 32, '-', '-', '-']\n",
      "['-', '-', '-', '-', 40, 41, 42, 43, '-', '-', '-', '-']\n",
      "['-', '-', '-', '-', '-', 53, 54, '-', '-', '-', '-', '-']\n",
      "['-', '-', '-', '-', '-', '-', '-', '-', '-', '-', '-', '-']\n",
      "['-', '-', '-', '-', '-', '-', '-', '-', '-', '-', '-', '-']\n",
      "['-', '-', '-', '-', '-', '-', '-', '-', '-', '-', '-', '-']\n",
      "['-', '-', '-', '-', '-', '-', '-', '-', '-', '-', '-', '-']\n",
      "['-', '-', '-', '-', '-', '-', '-', '-', '-', '-', '-', '-']\n",
      "['-', '-', '-', '-', '-', '-', '-', '-', '-', '-', '-', '-']\n",
      "['-', '-', '-', '-', '-', '-', '-', '-', '-', '-', '-', '-']\n"
     ]
    }
   ],
   "source": [
    "#print the values only accept condition\n",
    "conditional_value(matrix)"
   ]
  },
  {
   "cell_type": "markdown",
   "metadata": {},
   "source": [
    "### Sum of conditional values only"
   ]
  },
  {
   "cell_type": "code",
   "execution_count": 58,
   "metadata": {},
   "outputs": [
    {
     "data": {
      "text/plain": [
       "645"
      ]
     },
     "execution_count": 58,
     "metadata": {},
     "output_type": "execute_result"
    }
   ],
   "source": [
    "conditional_sum(matrix)"
   ]
  },
  {
   "cell_type": "markdown",
   "metadata": {},
   "source": [
    "### Average of conditional values only"
   ]
  },
  {
   "cell_type": "code",
   "execution_count": 59,
   "metadata": {},
   "outputs": [
    {
     "data": {
      "text/plain": [
       "21.5"
      ]
     },
     "execution_count": 59,
     "metadata": {},
     "output_type": "execute_result"
    }
   ],
   "source": [
    "conditional_average(matrix)"
   ]
  },
  {
   "cell_type": "code",
   "execution_count": null,
   "metadata": {},
   "outputs": [],
   "source": []
  }
 ],
 "metadata": {
  "kernelspec": {
   "display_name": "Python 3",
   "language": "python",
   "name": "python3"
  },
  "language_info": {
   "codemirror_mode": {
    "name": "ipython",
    "version": 3
   },
   "file_extension": ".py",
   "mimetype": "text/x-python",
   "name": "python",
   "nbconvert_exporter": "python",
   "pygments_lexer": "ipython3",
   "version": "3.8.5"
  }
 },
 "nbformat": 4,
 "nbformat_minor": 4
}
