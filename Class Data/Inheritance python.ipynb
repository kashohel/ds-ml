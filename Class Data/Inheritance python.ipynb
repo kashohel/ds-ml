{
 "cells": [
  {
   "cell_type": "markdown",
   "metadata": {},
   "source": [
    "### Car : properties-> name, color, brand, size, value, Behavior -> speed, break, turning_ratio, generic(suv, sedan)"
   ]
  },
  {
   "cell_type": "code",
   "execution_count": 15,
   "metadata": {},
   "outputs": [],
   "source": [
    "# super class/Parent class\n",
    "class Car:\n",
    "    \n",
    "    # instance\n",
    "    name = ''\n",
    "    color = ''\n",
    "    brand = ''\n",
    "    size = ''\n",
    "    price = ''\n",
    "    \n",
    "    def __init__(self, name, brand, color, size, price):\n",
    "        \n",
    "        self.name = name,\n",
    "        self.brand = brand,\n",
    "        self.color = color,\n",
    "        self.size = size,\n",
    "        self.price = price\n",
    "        \n",
    "    def speed(self, speed):\n",
    "        return \"top speed {}\".format(speed)\n",
    "    \n",
    "    def break_type(self, break_type):\n",
    "        return \"this car use {}\".format(break_type)\n",
    "    \n",
    "    def generic(self, gen):\n",
    "        return \"{}\".format(gen)\n"
   ]
  },
  {
   "cell_type": "code",
   "execution_count": 16,
   "metadata": {},
   "outputs": [],
   "source": [
    "# child class\n",
    "class MercidizeBenz(Car):\n",
    "    pass\n"
   ]
  },
  {
   "cell_type": "code",
   "execution_count": 17,
   "metadata": {},
   "outputs": [
    {
     "name": "stdout",
     "output_type": "stream",
     "text": [
      "('Marcidiz Benz',) ('Marcidiz',) ('Black',) ('5 seats',) 10 million\n"
     ]
    }
   ],
   "source": [
    "marcidizBenz = MercidizeBenz(\"Marcidiz Benz\", \"Marcidiz\", \"Black\", \"5 seats\", \"10 million\")\n",
    "\n",
    "print(marcidizBenz.name, marcidizBenz.brand, marcidizBenz.color, marcidizBenz.size, marcidizBenz.price)"
   ]
  },
  {
   "cell_type": "code",
   "execution_count": 22,
   "metadata": {},
   "outputs": [
    {
     "data": {
      "text/plain": [
       "'top speed 1500 kmp'"
      ]
     },
     "execution_count": 22,
     "metadata": {},
     "output_type": "execute_result"
    }
   ],
   "source": [
    "marcidizBenz.speed(\"1500 kmp\")"
   ]
  },
  {
   "cell_type": "code",
   "execution_count": 19,
   "metadata": {},
   "outputs": [
    {
     "data": {
      "text/plain": [
       "'this car use Disk Break with ABS'"
      ]
     },
     "execution_count": 19,
     "metadata": {},
     "output_type": "execute_result"
    }
   ],
   "source": [
    "marcidizBenz.break_type(\"Disk Break with ABS\")"
   ]
  },
  {
   "cell_type": "code",
   "execution_count": 20,
   "metadata": {},
   "outputs": [
    {
     "data": {
      "text/plain": [
       "'Sedan'"
      ]
     },
     "execution_count": 20,
     "metadata": {},
     "output_type": "execute_result"
    }
   ],
   "source": [
    "marcidizBenz.generic(\"Sedan\")"
   ]
  },
  {
   "cell_type": "code",
   "execution_count": 23,
   "metadata": {},
   "outputs": [
    {
     "data": {
      "text/plain": [
       "'this an  example Car'"
      ]
     },
     "execution_count": 23,
     "metadata": {},
     "output_type": "execute_result"
    }
   ],
   "source": [
    "\"this an  example {}\".format(\"Car\")"
   ]
  },
  {
   "cell_type": "code",
   "execution_count": 24,
   "metadata": {},
   "outputs": [],
   "source": [
    "# grand son\n",
    "class MarcidizNewModle(MercidizeBenz):\n",
    "    pass"
   ]
  },
  {
   "cell_type": "code",
   "execution_count": null,
   "metadata": {},
   "outputs": [],
   "source": []
  },
  {
   "cell_type": "code",
   "execution_count": 26,
   "metadata": {},
   "outputs": [],
   "source": [
    "mar_new = MarcidizNewModle(\"Marcidiz New Modle\", \"Marcidiz\", \"green\", \"7\", \"30 million\")"
   ]
  },
  {
   "cell_type": "code",
   "execution_count": 29,
   "metadata": {},
   "outputs": [
    {
     "name": "stdout",
     "output_type": "stream",
     "text": [
      "('Marcidiz New Modle',) ('Marcidiz',) ('green',) ('7',) 30 million\n"
     ]
    }
   ],
   "source": [
    "print(mar_new.name, mar_new.brand, mar_new.color, mar_new.size, mar_new.price)"
   ]
  },
  {
   "cell_type": "code",
   "execution_count": 30,
   "metadata": {},
   "outputs": [
    {
     "data": {
      "text/plain": [
       "'10 million30 million'"
      ]
     },
     "execution_count": 30,
     "metadata": {},
     "output_type": "execute_result"
    }
   ],
   "source": [
    "mar_benz = marcidizBenz.price\n",
    "mar_new_price = mar_new.price\n",
    "mar_benz+mar_new_price"
   ]
  },
  {
   "cell_type": "markdown",
   "metadata": {},
   "source": [
    "1. Read 2 variables, named A and B and make the sum of these two variables, assigning its result to the variable X. Print X.\n",
    "\n",
    "2. The formula to calculate the area of a circumference is defined as A = π . R2. Considering this problem that π = 3.14159. Calculate the area using the formula given in the problem description.\n",
    " \n",
    "3. Read two floating points' values of double precision A and B, corresponding to two student's grades. After this, calculate the student's average, considering that grade A has weight 3.5 and B has weight 7.5. Each grade can be from zero to ten, always with one digit after the decimal point.\n",
    "\n",
    "4. Read three values (variables A, B and C), which are the three student's grades. Then, calculate the average, considering that grade A has weight 2, grade B has weight 3 and the grade C has weight 5. Consider that each grade can go from 0 to 10.0, always with one decimal place.\n",
    "\n",
    "5. Read four integer values named A, B, C and D. Calculate and print the difference of product A and B by the product of C and D (A * B - C * D).\n",
    "\n",
    "6. Write a program that reads an employee's number, his/her worked hours number in a month and the amount he received per hour. Print the employee's number and salary that he/she will receive at end of the month, with two decimal places.\n",
    "\n",
    "7. Make a program that reads a seller's name, his/her fixed salary and the sale's total made by himself/herself in the month (in money). Considering that this seller receives 15% over all products sold, write the final salary (total) of this seller at the end of the month , with two decimal places.\n",
    "\n",
    "8. In this problem, the task is to read a code of a product 1, the number of units of product 1, the price for one unit of product 1, the code of a product 2, the number of units of product 2 and the price for one unit of product 2. After this, calculate and show the amount to be paid.\n",
    "\n"
   ]
  }
 ],
 "metadata": {
  "kernelspec": {
   "display_name": "Python 3",
   "language": "python",
   "name": "python3"
  },
  "language_info": {
   "codemirror_mode": {
    "name": "ipython",
    "version": 3
   },
   "file_extension": ".py",
   "mimetype": "text/x-python",
   "name": "python",
   "nbconvert_exporter": "python",
   "pygments_lexer": "ipython3",
   "version": "3.8.5"
  }
 },
 "nbformat": 4,
 "nbformat_minor": 4
}
