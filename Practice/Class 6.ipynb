{
 "cells": [
  {
   "cell_type": "code",
   "execution_count": 36,
   "metadata": {},
   "outputs": [],
   "source": [
    "def math(x, y):\n",
    "    su = x+y\n",
    "    sb = x-y\n",
    "    mt = x*y\n",
    "    dv = x/y\n",
    "    \n",
    "    print(\"Summation \\t {}+{} = {}\".format(x, y, su))\n",
    "    print(\"Substrution \\t {}+{} = {}\".format(x, y, sb))\n",
    "    print(\"Multiplication \\t {}+{} = {}\".format(x, y, mt))\n",
    "    print(\"Division \\t {}+{} = {}\".format(x, y, dv))"
   ]
  },
  {
   "cell_type": "code",
   "execution_count": 37,
   "metadata": {},
   "outputs": [
    {
     "name": "stdout",
     "output_type": "stream",
     "text": [
      "Summation \t 20+10 = 30\n",
      "Substrution \t 20+10 = 10\n",
      "Multiplication \t 20+10 = 200\n",
      "Division \t 20+10 = 2.0\n"
     ]
    }
   ],
   "source": [
    "math(20, 10)"
   ]
  },
  {
   "cell_type": "code",
   "execution_count": 39,
   "metadata": {},
   "outputs": [],
   "source": [
    "def range_sum(x, y):\n",
    "    for z in range(y):\n",
    "        print(str(x)+\"+\"+str(z)+\"=\"+str(x+z))"
   ]
  },
  {
   "cell_type": "code",
   "execution_count": 40,
   "metadata": {},
   "outputs": [
    {
     "name": "stdout",
     "output_type": "stream",
     "text": [
      "2+0=2\n",
      "2+1=3\n",
      "2+2=4\n",
      "2+3=5\n",
      "2+4=6\n"
     ]
    }
   ],
   "source": [
    "range_sum(2,5)"
   ]
  },
  {
   "cell_type": "code",
   "execution_count": 27,
   "metadata": {},
   "outputs": [
    {
     "name": "stdout",
     "output_type": "stream",
     "text": [
      "0\n",
      "1\n",
      "4\n",
      "9\n",
      "16\n"
     ]
    }
   ],
   "source": [
    "def power_loop(x):\n",
    "    for y in range(x):\n",
    "        print(y**2)\n",
    "        \n",
    "power_loop(5)"
   ]
  },
  {
   "cell_type": "code",
   "execution_count": 53,
   "metadata": {},
   "outputs": [
    {
     "name": "stdout",
     "output_type": "stream",
     "text": [
      "Input a number to get namta : 6\n",
      "6 X 1 = 6\n",
      "6 X 2 = 12\n",
      "6 X 3 = 18\n",
      "6 X 4 = 24\n",
      "6 X 5 = 30\n",
      "6 X 6 = 36\n",
      "6 X 7 = 42\n",
      "6 X 8 = 48\n",
      "6 X 9 = 54\n",
      "6 X 10 = 60\n"
     ]
    }
   ],
   "source": [
    "def namta(num):\n",
    "    for n in range(10):\n",
    "        step = n+1\n",
    "        print(num, \"X\", step, \"=\", num*step)\n",
    "    \n",
    "namta(int(input('Input a number to get namta : ')))"
   ]
  },
  {
   "cell_type": "code",
   "execution_count": 45,
   "metadata": {},
   "outputs": [
    {
     "data": {
      "text/plain": [
       "[0, 1, 2, 3, 4, 5, 6, 7, 8, 9]"
      ]
     },
     "execution_count": 45,
     "metadata": {},
     "output_type": "execute_result"
    }
   ],
   "source": [
    "def make_list(list_num):\n",
    "    l = []\n",
    "    for i in range(list_num):\n",
    "        l.append(i)\n",
    "    return l\n",
    "make_list(10)"
   ]
  },
  {
   "cell_type": "code",
   "execution_count": null,
   "metadata": {},
   "outputs": [],
   "source": []
  }
 ],
 "metadata": {
  "kernelspec": {
   "display_name": "Python 3",
   "language": "python",
   "name": "python3"
  },
  "language_info": {
   "codemirror_mode": {
    "name": "ipython",
    "version": 3
   },
   "file_extension": ".py",
   "mimetype": "text/x-python",
   "name": "python",
   "nbconvert_exporter": "python",
   "pygments_lexer": "ipython3",
   "version": "3.8.5"
  }
 },
 "nbformat": 4,
 "nbformat_minor": 4
}
