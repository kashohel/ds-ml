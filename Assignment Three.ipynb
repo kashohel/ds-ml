{
 "cells": [
  {
   "cell_type": "markdown",
   "metadata": {},
   "source": [
    "### String to character & list"
   ]
  },
  {
   "cell_type": "code",
   "execution_count": 15,
   "metadata": {},
   "outputs": [
    {
     "name": "stdout",
     "output_type": "stream",
     "text": [
      "K\n",
      "h\n",
      "o\n",
      "r\n",
      "s\n",
      "h\n",
      "e\n",
      "d\n",
      " \n",
      "A\n",
      "l\n",
      "a\n",
      "m\n",
      "Khorshed Alam\n",
      "['K', 'h', 'o', 'r', 's', 'h', 'e', 'd', ' ', 'A', 'l', 'a', 'm']\n"
     ]
    }
   ],
   "source": [
    "name = \"Khorshed Alam\"\n",
    "print (name)\n",
    "for l in name:\n",
    "    print(l)\n",
    "print (list(name))"
   ]
  },
  {
   "cell_type": "markdown",
   "metadata": {},
   "source": [
    "### Use of range in loop"
   ]
  },
  {
   "cell_type": "code",
   "execution_count": 3,
   "metadata": {},
   "outputs": [
    {
     "name": "stdout",
     "output_type": "stream",
     "text": [
      "0\n",
      "1\n",
      "2\n",
      "3\n",
      "4\n",
      "5\n",
      "6\n",
      "7\n",
      "8\n",
      "9\n"
     ]
    }
   ],
   "source": [
    "for i in range(10):\n",
    "    print (i)"
   ]
  },
  {
   "cell_type": "code",
   "execution_count": 4,
   "metadata": {},
   "outputs": [
    {
     "name": "stdout",
     "output_type": "stream",
     "text": [
      "1\n",
      "2\n",
      "3\n",
      "4\n",
      "5\n",
      "6\n",
      "7\n",
      "8\n",
      "9\n"
     ]
    }
   ],
   "source": [
    "for i in range(1,10):\n",
    "    print (i)"
   ]
  },
  {
   "cell_type": "code",
   "execution_count": 5,
   "metadata": {},
   "outputs": [
    {
     "name": "stdout",
     "output_type": "stream",
     "text": [
      "2\n",
      "4\n",
      "6\n",
      "8\n",
      "10\n"
     ]
    }
   ],
   "source": [
    "for even in range(2, 11, 2):\n",
    "    print (even)"
   ]
  },
  {
   "cell_type": "code",
   "execution_count": 7,
   "metadata": {},
   "outputs": [
    {
     "name": "stdout",
     "output_type": "stream",
     "text": [
      "1\n",
      "3\n",
      "5\n",
      "7\n",
      "9\n"
     ]
    }
   ],
   "source": [
    "for odd in range(1, 10, 2):\n",
    "    print (odd)"
   ]
  },
  {
   "cell_type": "code",
   "execution_count": 57,
   "metadata": {},
   "outputs": [
    {
     "name": "stdout",
     "output_type": "stream",
     "text": [
      "0: K\n",
      "1: h\n",
      "2: o\n",
      "3: r\n",
      "4: s\n",
      "5: h\n",
      "6: e\n",
      "7: d\n",
      "8:  \n",
      "9: A\n",
      "10: l\n",
      "11: a\n",
      "12: m\n",
      "\n",
      "Total number of character = 13\n"
     ]
    }
   ],
   "source": [
    "condition = True\n",
    "serial = 0\n",
    "name = 'Khorshed Alam'\n",
    "while condition:\n",
    "    if (serial < len(list(name))):\n",
    "        print (str(serial)+': '+list(name)[serial])\n",
    "    else:\n",
    "        print ('\\nTotal number of character = '+str(serial))\n",
    "        condition = None\n",
    "    serial = serial+1"
   ]
  },
  {
   "cell_type": "code",
   "execution_count": 11,
   "metadata": {},
   "outputs": [
    {
     "name": "stdout",
     "output_type": "stream",
     "text": [
      "[1, 3, 5, 7, 9]\n",
      "[2, 4, 6, 8, 10]\n"
     ]
    }
   ],
   "source": [
    "odd = []\n",
    "even = []\n",
    "for i in range(1, 11):\n",
    "    if (i%2):\n",
    "        odd.append(i)\n",
    "    else:\n",
    "        even.append(i)\n",
    "print (odd)\n",
    "print (even)"
   ]
  },
  {
   "cell_type": "code",
   "execution_count": 27,
   "metadata": {},
   "outputs": [
    {
     "name": "stdout",
     "output_type": "stream",
     "text": [
      "My name is Khorshed Alam\n"
     ]
    }
   ],
   "source": [
    "name = 'My name is Sarwar Alam'\n",
    "for i in name.split():\n",
    "    if(i == 'Sarwar'):\n",
    "        name = name.replace('Sarwar', 'Khorshed')\n",
    "print (name)"
   ]
  },
  {
   "cell_type": "code",
   "execution_count": 66,
   "metadata": {},
   "outputs": [
    {
     "name": "stdout",
     "output_type": "stream",
     "text": [
      "How old are you? 30\n",
      "Oh you born in 1990.....\n"
     ]
    }
   ],
   "source": [
    "age = int(input('How old are you? '))\n",
    "print (\"Oh you born in \"+str(2020-age)+' ...')"
   ]
  },
  {
   "cell_type": "markdown",
   "metadata": {},
   "source": [
    "## Please add me in conversation group"
   ]
  },
  {
   "cell_type": "markdown",
   "metadata": {},
   "source": [
    "### My facebook id is https://fb.me/kashohel\n",
    "### My whatsapp id is 01834411000"
   ]
  },
  {
   "cell_type": "code",
   "execution_count": null,
   "metadata": {},
   "outputs": [],
   "source": []
  }
 ],
 "metadata": {
  "kernelspec": {
   "display_name": "Python 3",
   "language": "python",
   "name": "python3"
  },
  "language_info": {
   "codemirror_mode": {
    "name": "ipython",
    "version": 3
   },
   "file_extension": ".py",
   "mimetype": "text/x-python",
   "name": "python",
   "nbconvert_exporter": "python",
   "pygments_lexer": "ipython3",
   "version": "3.8.5"
  }
 },
 "nbformat": 4,
 "nbformat_minor": 4
}
