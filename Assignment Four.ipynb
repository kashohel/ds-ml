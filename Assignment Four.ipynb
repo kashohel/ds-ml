{
 "cells": [
  {
   "cell_type": "markdown",
   "metadata": {},
   "source": [
    "### Matrix list\n",
    "Combine three list to make matrix"
   ]
  },
  {
   "cell_type": "code",
   "execution_count": 2,
   "metadata": {},
   "outputs": [
    {
     "name": "stdout",
     "output_type": "stream",
     "text": [
      "[['Rohim', 42, 'Programmer'], ['Korim', 25, 'Designer'], ['Manik', 38, ['Programmer', 'Designer']]]\n"
     ]
    }
   ],
   "source": [
    "l1 = ['Rohim', 42, 'Programmer']\n",
    "l2 = ['Korim', 25, 'Designer']\n",
    "l3 = ['Manik', 38, ['Programmer', 'Designer']]\n",
    "\n",
    "l = [l1, l2, l3]\n",
    "print (l)"
   ]
  },
  {
   "cell_type": "markdown",
   "metadata": {},
   "source": [
    "### For loop in matrix\n",
    "Run for loop for reatreve meaningfull data from matrix"
   ]
  },
  {
   "cell_type": "code",
   "execution_count": 24,
   "metadata": {},
   "outputs": [
    {
     "name": "stdout",
     "output_type": "stream",
     "text": [
      "Name: Rohim, age: 42, skill: Programmer, \n",
      "Name: Korim, age: 25, skill: Designer, \n",
      "Name: Manik, age: 38, skill: ['Programmer', 'Designer'], \n"
     ]
    }
   ],
   "source": [
    "match = ['Name', 'age', 'skill']\n",
    "for person in l:\n",
    "    ind = 0\n",
    "    det = ''\n",
    "    for info in person:\n",
    "        det = det+str(match[ind])+': '+str(info)+\", \"\n",
    "        ind = ind+1\n",
    "    print (det)"
   ]
  },
  {
   "cell_type": "markdown",
   "metadata": {},
   "source": [
    "### Single data\n",
    "Single data reatreve form matrix list"
   ]
  },
  {
   "cell_type": "code",
   "execution_count": 7,
   "metadata": {},
   "outputs": [
    {
     "data": {
      "text/plain": [
       "'Designer'"
      ]
     },
     "execution_count": 7,
     "metadata": {},
     "output_type": "execute_result"
    }
   ],
   "source": [
    "skil_of_korim = l[1][2]\n",
    "skil_of_korim"
   ]
  },
  {
   "cell_type": "markdown",
   "metadata": {},
   "source": [
    "### Comprehansive loop\n",
    "Try to find out all employee name and second time all skiils of employee"
   ]
  },
  {
   "cell_type": "code",
   "execution_count": 4,
   "metadata": {},
   "outputs": [
    {
     "name": "stdout",
     "output_type": "stream",
     "text": [
      "['Rohim', 'Korim', 'Manik']\n"
     ]
    }
   ],
   "source": [
    "names = [row[0] for row in l]\n",
    "print (names)"
   ]
  },
  {
   "cell_type": "code",
   "execution_count": 5,
   "metadata": {},
   "outputs": [
    {
     "name": "stdout",
     "output_type": "stream",
     "text": [
      "['Programmer', 'Designer', ['Programmer', 'Designer']]\n"
     ]
    }
   ],
   "source": [
    "skils = [row[2] for row in l]\n",
    "print (skils)"
   ]
  },
  {
   "cell_type": "code",
   "execution_count": null,
   "metadata": {},
   "outputs": [],
   "source": []
  },
  {
   "cell_type": "markdown",
   "metadata": {},
   "source": [
    "### Format printing\n",
    "Handle error and show custom error and success message"
   ]
  },
  {
   "cell_type": "code",
   "execution_count": null,
   "metadata": {},
   "outputs": [],
   "source": [
    "foods = ['apple', 'orange', 'banana', 'mango', 'jeckfrout']\n",
    "food_name = input('Search a food name : ')\n",
    "try:\n",
    "    foods.index(food_name)\n",
    "    print ('{} is available in list.'.format(food_name))\n",
    "except:\n",
    "    print ('{} not found in list.'.format(food_name))"
   ]
  },
  {
   "cell_type": "markdown",
   "metadata": {},
   "source": [
    "### POP from list \n",
    "Here I try to cover list, while loop, conditional statement if-else, list-index, list-pop, format-print and string-center"
   ]
  },
  {
   "cell_type": "code",
   "execution_count": null,
   "metadata": {},
   "outputs": [],
   "source": [
    "foods = ['apple', 'orange', 'banana', 'mango', 'jeckfrout']\n",
    "cont = True\n",
    "while cont:\n",
    "    if len(foods) < 1:\n",
    "        cont = False\n",
    "        print ('No food name exit in list.')\n",
    "    else:\n",
    "        remove_name = input('Input a name to remove from list : ')\n",
    "        if remove_name != \"exit\":\n",
    "            try:\n",
    "                ind = foods.index(remove_name)\n",
    "                foods.pop(ind)\n",
    "                print ('{} remove from food list.'.format(remove_name))\n",
    "                print ('Now food list containing {}'.format(foods))\n",
    "            except:\n",
    "                print ('{} name is not in food list.'.format(remove_name))\n",
    "                print ('Current food list containing {}'.format(foods))\n",
    "        else:\n",
    "            cont = False\n",
    "            print('POP option exit successfully.')\n",
    "\n",
    "print (\" PROCESS COMPLETE \".center(50, '='))"
   ]
  },
  {
   "cell_type": "code",
   "execution_count": null,
   "metadata": {},
   "outputs": [],
   "source": []
  }
 ],
 "metadata": {
  "kernelspec": {
   "display_name": "Python 3",
   "language": "python",
   "name": "python3"
  }
 },
 "nbformat": 4,
 "nbformat_minor": 4
}
